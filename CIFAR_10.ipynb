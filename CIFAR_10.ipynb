{
 "cells": [
  {
   "cell_type": "code",
   "execution_count": 53,
   "id": "e4f61874-0a09-44bd-bfed-c01ade56a98a",
   "metadata": {},
   "outputs": [],
   "source": [
    "import numpy as np\n",
    "import tensorflow as tf\n",
    "import matplotlib.pyplot as plt\n",
    "from tensorflow.keras import datasets,layers,models"
   ]
  },
  {
   "cell_type": "code",
   "execution_count": 54,
   "id": "a83d28ac-3ab0-4ea1-8479-6ceb3992723a",
   "metadata": {},
   "outputs": [
    {
     "data": {
      "text/plain": [
       "(50000, 1)"
      ]
     },
     "execution_count": 54,
     "metadata": {},
     "output_type": "execute_result"
    }
   ],
   "source": [
    "(X_train,y_train),(X_test,y_test) = datasets.cifar10.load_data()\n",
    "X_train.shape\n",
    "y_train.shape"
   ]
  },
  {
   "cell_type": "code",
   "execution_count": 55,
   "id": "bf88ef33-8bc1-4349-aca0-2f24c935f757",
   "metadata": {},
   "outputs": [
    {
     "data": {
      "text/plain": [
       "<matplotlib.image.AxesImage at 0x1c2ec42dd50>"
      ]
     },
     "execution_count": 55,
     "metadata": {},
     "output_type": "execute_result"
    },
    {
     "data": {
      "image/png": "[encoded data removed]",
      "text/plain": [
       "<Figure size 1000x100 with 1 Axes>"
      ]
     },
     "metadata": {},
     "output_type": "display_data"
    }
   ],
   "source": [
    "plt.figure(figsize = (10,1))\n",
    "plt.imshow(X_train[1])"
   ]
  },
  {
   "cell_type": "code",
   "execution_count": 56,
   "id": "ff3ec5ba-c0d2-4de2-9ace-f76898ca7ed3",
   "metadata": {},
   "outputs": [],
   "source": [
    "data = ['airplane','automobile','bird','cat','deer','dog','frog','horse','ship','truck']"
   ]
  },
  {
   "cell_type": "code",
   "execution_count": 57,
   "id": "9724b937-94b5-4479-be40-38453e08c6b0",
   "metadata": {},
   "outputs": [],
   "source": [
    "from sklearn.model_selection import train_test_split\n",
    "X_train,X_test,y_train,y_test = train_test_split(X_train,y_train,test_size=0.25,random_state=42)"
   ]
  },
  {
   "cell_type": "markdown",
   "id": "4a4bab71-996b-4645-85ca-14d6897a9b0b",
   "metadata": {},
   "source": [
    "Now the values will be normalised within a range between 0 & 1, which scales down all values and drastically imporves the performance of the model"
   ]
  },
  {
   "cell_type": "code",
   "execution_count": 58,
   "id": "17074556-8280-42ab-9519-b1732d8a8bb5",
   "metadata": {},
   "outputs": [],
   "source": [
    "X_train = X_train/255\n",
    "X_test = X_test/255"
   ]
  },
  {
   "cell_type": "code",
   "execution_count": 59,
   "id": "479ad2e7-0211-47ac-b4a7-e68f21578098",
   "metadata": {},
   "outputs": [
    {
     "data": {
      "text/plain": [
       "array([[[0.47058824, 0.4627451 , 0.25882353],\n",
       "        [0.4627451 , 0.45490196, 0.25490196],\n",
       "        [0.4745098 , 0.46666667, 0.26666667],\n",
       "        ...,\n",
       "        [0.49803922, 0.5254902 , 0.27058824],\n",
       "        [0.48627451, 0.51372549, 0.25490196],\n",
       "        [0.50196078, 0.5254902 , 0.27843137]],\n",
       "\n",
       "       [[0.49411765, 0.48627451, 0.28235294],\n",
       "        [0.48235294, 0.4745098 , 0.2745098 ],\n",
       "        [0.47843137, 0.47058824, 0.27058824],\n",
       "        ...,\n",
       "        [0.49019608, 0.50980392, 0.2745098 ],\n",
       "        [0.4745098 , 0.49803922, 0.25882353],\n",
       "        [0.47843137, 0.50196078, 0.26666667]],\n",
       "\n",
       "       [[0.49019608, 0.48235294, 0.28235294],\n",
       "        [0.48627451, 0.47843137, 0.27843137],\n",
       "        [0.49019608, 0.48235294, 0.28235294],\n",
       "        ...,\n",
       "        [0.4745098 , 0.49411765, 0.27843137],\n",
       "        [0.48235294, 0.50196078, 0.28627451],\n",
       "        [0.47843137, 0.49803922, 0.2745098 ]],\n",
       "\n",
       "       ...,\n",
       "\n",
       "       [[0.34901961, 0.33333333, 0.17254902],\n",
       "        [0.34509804, 0.32941176, 0.16862745],\n",
       "        [0.31764706, 0.30196078, 0.14509804],\n",
       "        ...,\n",
       "        [0.51764706, 0.47058824, 0.34901961],\n",
       "        [0.50196078, 0.47058824, 0.32941176],\n",
       "        [0.48235294, 0.45098039, 0.29803922]],\n",
       "\n",
       "       [[0.43921569, 0.40392157, 0.24313725],\n",
       "        [0.40392157, 0.36862745, 0.21176471],\n",
       "        [0.39215686, 0.35686275, 0.2       ],\n",
       "        ...,\n",
       "        [0.49803922, 0.45490196, 0.32156863],\n",
       "        [0.49803922, 0.47058824, 0.32156863],\n",
       "        [0.51764706, 0.48627451, 0.33333333]],\n",
       "\n",
       "       [[0.46666667, 0.41176471, 0.24705882],\n",
       "        [0.45490196, 0.4       , 0.23529412],\n",
       "        [0.43137255, 0.37647059, 0.21176471],\n",
       "        ...,\n",
       "        [0.49019608, 0.45098039, 0.30196078],\n",
       "        [0.47058824, 0.44313725, 0.28235294],\n",
       "        [0.50588235, 0.4745098 , 0.31764706]]])"
      ]
     },
     "execution_count": 59,
     "metadata": {},
     "output_type": "execute_result"
    }
   ],
   "source": [
    "X_train[0]"
   ]
  },
  {
   "cell_type": "markdown",
   "id": "b4232d1f-fb52-478c-8732-d7f20df92ed2",
   "metadata": {},
   "source": [
    "Using an artificial nueral network"
   ]
  },
  {
   "cell_type": "code",
   "execution_count": 60,
   "id": "5c01c468-bbb0-4288-a1fe-67a2c9483e92",
   "metadata": {},
   "outputs": [
    {
     "name": "stdout",
     "output_type": "stream",
     "text": [
      "Epoch 1/5\n",
      "\u001b[1m1172/1172\u001b[0m \u001b[32m━━━━━━━━━━━━━━━━━━━━\u001b[0m\u001b[37m\u001b[0m \u001b[1m18s\u001b[0m 15ms/step - accuracy: 0.2931 - loss: 1.9676\n",
      "Epoch 2/5\n",
      "\u001b[1m1172/1172\u001b[0m \u001b[32m━━━━━━━━━━━━━━━━━━━━\u001b[0m\u001b[37m\u001b[0m \u001b[1m18s\u001b[0m 15ms/step - accuracy: 0.4038 - loss: 1.6930\n",
      "Epoch 3/5\n",
      "\u001b[1m1172/1172\u001b[0m \u001b[32m━━━━━━━━━━━━━━━━━━━━\u001b[0m\u001b[37m\u001b[0m \u001b[1m18s\u001b[0m 15ms/step - accuracy: 0.4388 - loss: 1.5920\n",
      "Epoch 4/5\n",
      "\u001b[1m1172/1172\u001b[0m \u001b[32m━━━━━━━━━━━━━━━━━━━━\u001b[0m\u001b[37m\u001b[0m \u001b[1m18s\u001b[0m 15ms/step - accuracy: 0.4651 - loss: 1.5220\n",
      "Epoch 5/5\n",
      "\u001b[1m1172/1172\u001b[0m \u001b[32m━━━━━━━━━━━━━━━━━━━━\u001b[0m\u001b[37m\u001b[0m \u001b[1m18s\u001b[0m 15ms/step - accuracy: 0.4771 - loss: 1.4880\n"
     ]
    },
    {
     "data": {
      "text/plain": [
       "<keras.src.callbacks.history.History at 0x1c2ec1ea990>"
      ]
     },
     "execution_count": 60,
     "metadata": {},
     "output_type": "execute_result"
    }
   ],
   "source": [
    "nueron = models.Sequential([\n",
    "    layers.Flatten(input_shape = (32,32,3)),\n",
    "    layers.Dense(2500,activation ='relu'),\n",
    "    layers.Dense(1000,activation='relu'),\n",
    "    layers.Dense(10,activation = 'sigmoid')\n",
    "])\n",
    "nueron.compile(\n",
    "    optimizer = 'SGD',\n",
    "    loss = 'sparse_categorical_crossentropy',\n",
    "    metrics = ['accuracy']\n",
    ")\n",
    "nueron.fit(X_train,y_train,epochs=5)\n"
   ]
  },
  {
   "cell_type": "markdown",
   "id": "e413ac32-ae02-460d-858b-df7ccbdc108c",
   "metadata": {},
   "source": [
    "bad performance for the ann"
   ]
  },
  {
   "cell_type": "code",
   "execution_count": 61,
   "id": "66e5e730-b7f9-4103-91f0-5b14c237e7cd",
   "metadata": {},
   "outputs": [
    {
     "name": "stdout",
     "output_type": "stream",
     "text": [
      "\u001b[1m391/391\u001b[0m \u001b[32m━━━━━━━━━━━━━━━━━━━━\u001b[0m\u001b[37m\u001b[0m \u001b[1m2s\u001b[0m 4ms/step\n",
      "\n",
      "               precision    recall  f1-score   support\n",
      "\n",
      "           0       0.47      0.57      0.51      1235\n",
      "           1       0.63      0.42      0.50      1212\n",
      "           2       0.44      0.21      0.28      1270\n",
      "           3       0.30      0.51      0.38      1291\n",
      "           4       0.50      0.28      0.36      1182\n",
      "           5       0.37      0.33      0.35      1263\n",
      "           6       0.48      0.49      0.48      1219\n",
      "           7       0.56      0.50      0.53      1259\n",
      "           8       0.71      0.48      0.57      1280\n",
      "           9       0.42      0.75      0.54      1289\n",
      "\n",
      "    accuracy                           0.46     12500\n",
      "   macro avg       0.49      0.45      0.45     12500\n",
      "weighted avg       0.49      0.46      0.45     12500\n",
      "\n"
     ]
    }
   ],
   "source": [
    "from sklearn.metrics import classification_report\n",
    "y_pred = nueron.predict(X_test)\n",
    "y_preds_vals = [np.argmax(i) for i in y_pred]\n",
    "print(\"\\n\",classification_report(y_test,y_preds_vals))"
   ]
  },
  {
   "cell_type": "code",
   "execution_count": 85,
   "id": "30889f8b-e857-40b9-8a5b-c02b5099e81c",
   "metadata": {},
   "outputs": [],
   "source": [
    "cnn = models.Sequential([\n",
    "    layers.Conv2D(filters=32,kernel_size=(3,3),activation='relu',input_shape=(32,32,3),padding='same'),\n",
    "    layers.BatchNormalization(),\n",
    "    layers.MaxPooling2D((2,2)),\n",
    "    layers.Dropout(0.25),\n",
    "    layers.Conv2D(filters=32,kernel_size=(3,3),activation='relu',input_shape=(32,32,3),padding='same'),\n",
    "    layers.BatchNormalization(),\n",
    "    layers.MaxPooling2D((2,2)),\n",
    "    layers.Dropout(0.25),\n",
    "    layers.Flatten(),\n",
    "    layers.Dense(64,activation='relu'),\n",
    "    layers.Dense(10,activation='softmax')\n",
    "])"
   ]
  },
  {
   "cell_type": "code",
   "execution_count": 86,
   "id": "cf3bc38d-75a9-4988-a89f-f2eeb9a725d1",
   "metadata": {},
   "outputs": [],
   "source": [
    "cnn.compile(optimizer = 'adam',\n",
    "           loss='sparse_categorical_crossentropy',\n",
    "           metrics = ['accuracy'])"
   ]
  },
  {
   "cell_type": "code",
   "execution_count": 96,
   "id": "57b75288-8b50-43c5-9a1a-0c0f3ed96786",
   "metadata": {},
   "outputs": [
    {
     "ename": "NameError",
     "evalue": "name 'keras' is not defined",
     "output_type": "error",
     "traceback": [
      "\u001b[1;31m---------------------------------------------------------------------------\u001b[0m",
      "\u001b[1;31mNameError\u001b[0m                                 Traceback (most recent call last)",
      "Cell \u001b[1;32mIn[96], line 1\u001b[0m\n\u001b[1;32m----> 1\u001b[0m \u001b[43mkeras\u001b[49m\u001b[38;5;241m.\u001b[39mcallbacks\u001b[38;5;241m.\u001b[39mEarlyStopping(moniter\u001b[38;5;241m=\u001b[39m\u001b[38;5;124m'\u001b[39m\u001b[38;5;124mval_loss\u001b[39m\u001b[38;5;124m'\u001b[39m,patience\u001b[38;5;241m=\u001b[39m\u001b[38;5;241m5\u001b[39m,restore_best_weights \u001b[38;5;241m=\u001b[39m \u001b[38;5;28;01mTrue\u001b[39;00m)\n\u001b[0;32m      2\u001b[0m keras\u001b[38;5;241m.\u001b[39mcallbacks\u001b[38;5;241m.\u001b[39mReduceLROnPlateau(moniter\u001b[38;5;241m=\u001b[39m\u001b[38;5;124m'\u001b[39m\u001b[38;5;124mval_loss\u001b[39m\u001b[38;5;124m'\u001b[39m,factor\u001b[38;5;241m=\u001b[39m\u001b[38;5;241m0.5\u001b[39m,patience\u001b[38;5;241m=\u001b[39m\u001b[38;5;241m3\u001b[39m,verbose\u001b[38;5;241m=\u001b[39m\u001b[38;5;241m1\u001b[39m)\n\u001b[0;32m      3\u001b[0m cnn\u001b[38;5;241m.\u001b[39mfit(X_train,y_train,epochs\u001b[38;5;241m=\u001b[39m\u001b[38;5;241m13\u001b[39m,batch_size\u001b[38;5;241m=\u001b[39m\u001b[38;5;241m64\u001b[39m)\n",
      "\u001b[1;31mNameError\u001b[0m: name 'keras' is not defined"
     ]
    }
   ],
   "source": [
    "keras.callbacks.EarlyStopping(moniter='val_loss',patience=5,restore_best_weights = True)\n",
    "keras.callbacks.ReduceLROnPlateau(moniter='val_loss',factor=0.5,patience=3,verbose=1)\n",
    "cnn.fit(X_train,y_train,epochs=13,batch_size=64)"
   ]
  },
  {
   "cell_type": "code",
   "execution_count": 88,
   "id": "b99ebaec-1ea4-4872-886d-69b433e95ef8",
   "metadata": {},
   "outputs": [
    {
     "name": "stdout",
     "output_type": "stream",
     "text": [
      "\u001b[1m391/391\u001b[0m \u001b[32m━━━━━━━━━━━━━━━━━━━━\u001b[0m\u001b[37m\u001b[0m \u001b[1m2s\u001b[0m 4ms/step - accuracy: 0.4475 - loss: 1.5246\n",
      "perfomance with ann:  [1.515270471572876, 0.4561600089073181] \n",
      "\n",
      "\u001b[1m391/391\u001b[0m \u001b[32m━━━━━━━━━━━━━━━━━━━━\u001b[0m\u001b[37m\u001b[0m \u001b[1m1s\u001b[0m 2ms/step - accuracy: 0.6790 - loss: 1.0180\n",
      "perfomance with cnn:  [1.0373225212097168, 0.6747199892997742]\n"
     ]
    }
   ],
   "source": [
    "print(\"perfomance with ann: \",nueron.evaluate(X_test,y_test),\"\\n\")\n",
    "print(\"perfomance with cnn: \",cnn.evaluate(X_test,y_test))"
   ]
  },
  {
   "cell_type": "markdown",
   "id": "5db1ac60-ee66-4b9c-9758-06e403edd4db",
   "metadata": {},
   "source": [
    "As we can see the cnn gives a much better accuracy than the ann"
   ]
  },
  {
   "cell_type": "code",
   "execution_count": 89,
   "id": "3ee075e0-379e-4c0c-9691-4e943105f98d",
   "metadata": {},
   "outputs": [
    {
     "data": {
      "text/plain": [
       "<matplotlib.image.AxesImage at 0x1c349a72fd0>"
      ]
     },
     "execution_count": 89,
     "metadata": {},
     "output_type": "execute_result"
    },
    {
     "data": {
      "image/png": "[encoded data removed]",
      "text/plain": [
       "<Figure size 500x200 with 1 Axes>"
      ]
     },
     "metadata": {},
     "output_type": "display_data"
    }
   ],
   "source": [
    "plt.figure(figsize=(5,2))\n",
    "\n",
    "plt.imshow(X_test[6])"
   ]
  },
  {
   "cell_type": "code",
   "execution_count": 90,
   "id": "23c3beb5-0dc1-4bed-b954-b04b9988abff",
   "metadata": {},
   "outputs": [
    {
     "name": "stdout",
     "output_type": "stream",
     "text": [
      "\u001b[1m391/391\u001b[0m \u001b[32m━━━━━━━━━━━━━━━━━━━━\u001b[0m\u001b[37m\u001b[0m \u001b[1m1s\u001b[0m 2ms/step\n",
      "predicted values [6, 8, 0, 6, 1]\n",
      "actual values [6 8 0 6 5]\n"
     ]
    }
   ],
   "source": [
    "y_pred = cnn.predict(X_test)\n",
    "y_preds = [np.argmax(i) for i in y_pred]\n",
    "print(\"predicted values\",y_preds[5:10])\n",
    "print(\"actual values\",y_test[5:10].reshape(-1))"
   ]
  },
  {
   "cell_type": "code",
   "execution_count": 91,
   "id": "79f02941-b319-407c-9c7f-f6ab856ac487",
   "metadata": {},
   "outputs": [
    {
     "data": {
      "text/plain": [
       "'ship'"
      ]
     },
     "execution_count": 91,
     "metadata": {},
     "output_type": "execute_result"
    }
   ],
   "source": [
    "data[y_preds[6]]"
   ]
  },
  {
   "cell_type": "code",
   "execution_count": 92,
   "id": "82e48f8a-4e60-4e6c-977e-d3cb80a365e0",
   "metadata": {},
   "outputs": [
    {
     "name": "stdout",
     "output_type": "stream",
     "text": [
      "\n",
      "               precision    recall  f1-score   support\n",
      "\n",
      "           0       0.72      0.71      0.71      1235\n",
      "           1       0.83      0.80      0.81      1212\n",
      "           2       0.59      0.58      0.58      1270\n",
      "           3       0.55      0.35      0.43      1291\n",
      "           4       0.56      0.68      0.61      1182\n",
      "           5       0.74      0.35      0.48      1263\n",
      "           6       0.58      0.87      0.70      1219\n",
      "           7       0.74      0.77      0.75      1259\n",
      "           8       0.68      0.88      0.77      1280\n",
      "           9       0.81      0.78      0.79      1289\n",
      "\n",
      "    accuracy                           0.67     12500\n",
      "   macro avg       0.68      0.68      0.66     12500\n",
      "weighted avg       0.68      0.67      0.66     12500\n",
      "\n"
     ]
    }
   ],
   "source": [
    "from sklearn.metrics import classification_report\n",
    "print('\\n',classification_report(y_test,y_preds))"
   ]
  },
  {
   "cell_type": "code",
   "execution_count": null,
   "id": "fe13950c-544d-43ae-8b89-6ec9a8c65a16",
   "metadata": {},
   "outputs": [],
   "source": []
  }
 ],
 "metadata": {
  "kernelspec": {
   "display_name": "Python 3 (ipykernel)",
   "language": "python",
   "name": "python3"
  },
  "language_info": {
   "codemirror_mode": {
    "name": "ipython",
    "version": 3
   },
   "file_extension": ".py",
   "mimetype": "text/x-python",
   "name": "python",
   "nbconvert_exporter": "python",
   "pygments_lexer": "ipython3",
   "version": "3.11.7"
  }
 },
 "nbformat": 4,
 "nbformat_minor": 5
}
